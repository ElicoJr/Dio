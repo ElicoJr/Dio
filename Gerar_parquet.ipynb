{
 "cells": [
  {
   "cell_type": "markdown",
   "id": "e4172e90",
   "metadata": {},
   "source": [
    "## Gera Arquivo de EUSD, Kei, Meta e Realizado para Cálculo de Compensação por Continuidade - Pós Operação"
   ]
  },
  {
   "cell_type": "code",
   "execution_count": null,
   "id": "cf436c35",
   "metadata": {
    "tags": []
   },
   "outputs": [],
   "source": [
    "import pandas as pd\n",
    "import os\n",
    "import datetime\n",
    "import pyarrow\n",
    "\n",
    "pd.set_option('display.max_columns', 200)\n",
    "pd.set_option('display.max_rows', 200)\n",
    "pd.set_option('display.float_format', lambda x: '%0.4f' % x)\n",
    "referencia_calculo = '2023_08'"
   ]
  },
  {
   "cell_type": "markdown",
   "id": "a93f1e32",
   "metadata": {},
   "source": [
    "### importa eusd e kei (fio b):"
   ]
  },
  {
   "cell_type": "code",
   "execution_count": null,
   "id": "459255c6",
   "metadata": {
    "tags": []
   },
   "outputs": [],
   "source": [
    "%%time\n",
    "pasta_fonte = r'C:/Users/evgj/Downloads/BI_REN1000/BASES/EUSD_KEY'\n",
    "\n",
    "os.chdir(pasta_fonte)\n",
    "filepaths = [f for f in os.listdir('.') if f.startswith(referencia_calculo)]\n",
    "\n",
    "df_eusd_kei_colunas_texto = {'NUMCDC_CAD': 'str', 'NUMANO_REF': 'str', 'NUMMES_REF': 'str'}\n",
    "\n",
    "df_eusd_kei_0 = pd.concat(\n",
    "        (pd.read_csv(i, \\\n",
    "            dtype = df_eusd_kei_colunas_texto, \\\n",
    "            encoding = 'cp1252', sep = ';', engine='python', decimal = ',', thousands = '.') for i in filepaths)\n",
    ").reset_index(drop = True)\n",
    "\n",
    "df_eusd_kei_0.shape\n"
   ]
  },
  {
   "cell_type": "code",
   "execution_count": null,
   "id": "aa1957aa-807c-49e7-9576-d24d69b98456",
   "metadata": {
    "tags": []
   },
   "outputs": [],
   "source": [
    "df_eusd_kei_0.rename(columns = {'NUMANO_REF': 'NUMANO_REF_EUSD', 'NUMMES_REF': 'NUMMES_REF_EUSD'}, inplace = True)"
   ]
  },
  {
   "cell_type": "code",
   "execution_count": null,
   "id": "375a6625-7166-4797-82c4-fa649cb29d7f",
   "metadata": {
    "tags": []
   },
   "outputs": [],
   "source": [
    "df_eusd_kei_0 = df_eusd_kei_0[['EMPRESA', 'NUMCDC_CAD', 'NUMANO_REF_EUSD', 'NUMMES_REF_EUSD', 'VLRENC_DTB', 'IDTTIP_FOR', 'K', 'EUSD_FIO_B']].copy()\n"
   ]
  },
  {
   "cell_type": "code",
   "execution_count": null,
   "id": "e1646379",
   "metadata": {
    "tags": []
   },
   "outputs": [],
   "source": [
    "df_eusd_kei_0"
   ]
  },
  {
   "cell_type": "markdown",
   "id": "ed7368b8",
   "metadata": {},
   "source": [
    "### importa \"result dic\" do SiQual:\n",
    "### !!! IMPORTAR APENAS METAS"
   ]
  },
  {
   "cell_type": "code",
   "execution_count": null,
   "id": "9691ef68",
   "metadata": {
    "tags": []
   },
   "outputs": [],
   "source": [
    "%%time\n",
    "pasta_fonte = r'C:/Users/evgj/Downloads/BI_REN1000/BASES/EUSD_KEY/RESULTADOS_DIC'\n",
    "\n",
    "os.chdir(pasta_fonte)\n",
    "filepaths = [f for f in os.listdir('.') if f.startswith(referencia_calculo)]\n",
    "\n",
    "df_result_dic_colunas_importar = ['RESULTADO', 'ENTIDADE', 'META_DIC_MENSAL', 'META_FIC_MENSAL', 'META_DMIC_MENSAL', 'META_DICRI_HORA']\n",
    "df_result_dic_colunas_texto = {'ENTIDADE': 'str'}\n",
    "\n",
    "\n",
    "df_result_dic_0 = pd.concat(\n",
    "        (pd.read_csv(i, \\\n",
    "            dtype = df_result_dic_colunas_texto, \\\n",
    "            usecols = df_result_dic_colunas_importar, \\\n",
    "            encoding = 'cp1252', sep = ';', engine='python', decimal = ',', thousands = '.') for i in filepaths)\n",
    ").reset_index(drop = True)\n",
    "\n",
    "df_result_dic_0.shape\n"
   ]
  },
  {
   "cell_type": "code",
   "execution_count": null,
   "id": "917c8b07",
   "metadata": {
    "tags": []
   },
   "outputs": [],
   "source": [
    "df_result_dic_0.head()"
   ]
  },
  {
   "cell_type": "markdown",
   "id": "7ad6d13c",
   "metadata": {},
   "source": [
    "#### proporção de UCs da base result dic contidas na base eusd kei:"
   ]
  },
  {
   "cell_type": "code",
   "execution_count": null,
   "id": "088af690",
   "metadata": {
    "tags": []
   },
   "outputs": [],
   "source": [
    "df_result_dic_0.ENTIDADE.isin(df_eusd_kei_0.NUMCDC_CAD).sum() / df_result_dic_0.shape[0]"
   ]
  },
  {
   "cell_type": "markdown",
   "id": "e50429ac",
   "metadata": {},
   "source": [
    "#### proporção de UCs da base eusd kei contidas na base result dic:"
   ]
  },
  {
   "cell_type": "code",
   "execution_count": null,
   "id": "a52bfa50",
   "metadata": {
    "tags": []
   },
   "outputs": [],
   "source": [
    "df_eusd_kei_0.NUMCDC_CAD.isin(df_result_dic_0.ENTIDADE).sum() / df_eusd_kei_0.shape[0]"
   ]
  },
  {
   "cell_type": "markdown",
   "id": "26101d96",
   "metadata": {},
   "source": [
    "### importa dic dec bruto (obs.: alterar o mês)"
   ]
  },
  {
   "cell_type": "code",
   "execution_count": null,
   "id": "52de3bbc-9c7f-4787-b585-c721b114c29c",
   "metadata": {
    "tags": []
   },
   "outputs": [],
   "source": [
    "%%time\n",
    "pasta_fonte = r'C:/Users/evgj/Downloads/BI_REN1000/BASES/EUSD_KEY/DIC_FIC_BR'\n",
    "\n",
    "os.chdir(pasta_fonte)\n",
    "filepaths = [f for f in os.listdir('.') if f.startswith(referencia_calculo)]\n",
    "\n",
    "df_dic_dec_br_colunas_importar = ['RESULTADO', 'CONTA', 'DIC_MES', 'FIC_MES', 'DMIC_MES']\n",
    "df_dic_dec_br_colunas_texto = {'CONTA': 'str'}\n",
    "\n",
    "\n",
    "df_dic_dec_br_0 = pd.concat(\n",
    "        (pd.read_csv(i, \\\n",
    "            dtype = df_dic_dec_br_colunas_texto, \\\n",
    "            usecols = df_dic_dec_br_colunas_importar, \\\n",
    "            encoding = 'cp1252', sep = ';', engine='python', decimal = ',', thousands = '.') for i in filepaths)\n",
    ").reset_index(drop = True)\n",
    "\n",
    "df_dic_dec_br_0.shape\n",
    "\n"
   ]
  },
  {
   "cell_type": "markdown",
   "id": "3adaf5ac",
   "metadata": {},
   "source": [
    "#### proporção de UCs da base dic dec br contidas na base eusd kei:"
   ]
  },
  {
   "cell_type": "code",
   "execution_count": null,
   "id": "853fb412",
   "metadata": {
    "tags": []
   },
   "outputs": [],
   "source": [
    "df_dic_dec_br_0.CONTA.isin(df_eusd_kei_0.NUMCDC_CAD).sum() / df_dic_dec_br_0.shape[0]"
   ]
  },
  {
   "cell_type": "markdown",
   "id": "fcc454f2",
   "metadata": {},
   "source": [
    "#### proporção de UCs da base dic dec br contidas na base result dic:"
   ]
  },
  {
   "cell_type": "code",
   "execution_count": null,
   "id": "3e4f31b3",
   "metadata": {
    "tags": []
   },
   "outputs": [],
   "source": [
    "df_dic_dec_br_0.CONTA.isin(df_result_dic_0.ENTIDADE).sum() / df_dic_dec_br_0.shape[0]"
   ]
  },
  {
   "cell_type": "markdown",
   "id": "79e96ce0-188a-47f5-a493-050c3bb8766c",
   "metadata": {},
   "source": [
    "### criando cópias para manter as bases originais antes das transformações:"
   ]
  },
  {
   "cell_type": "code",
   "execution_count": null,
   "id": "9bcd09eb",
   "metadata": {
    "tags": []
   },
   "outputs": [],
   "source": [
    "df_eusd_kei = df_eusd_kei_0.copy()\n",
    "df_result_dic = df_result_dic_0.copy()\n",
    "df_dic_dec_br = df_dic_dec_br_0.copy()"
   ]
  },
  {
   "cell_type": "markdown",
   "id": "c51b77b1",
   "metadata": {},
   "source": [
    "### removendo duplicatas da base de dic dec bruto:"
   ]
  },
  {
   "cell_type": "code",
   "execution_count": null,
   "id": "6d046d35",
   "metadata": {
    "tags": []
   },
   "outputs": [],
   "source": [
    "df_dic_dec_br = df_dic_dec_br.drop_duplicates(['RESULTADO', 'CONTA'])"
   ]
  },
  {
   "cell_type": "markdown",
   "id": "60749bda-5465-470c-9f8e-5b01f1f77034",
   "metadata": {},
   "source": [
    "### adicionando coluna de \"mês referência\":"
   ]
  },
  {
   "cell_type": "code",
   "execution_count": null,
   "id": "830041cc-4e49-4972-817f-11d0b899d037",
   "metadata": {
    "tags": []
   },
   "outputs": [],
   "source": [
    "df_result_dic['mes_ref_carta'] = referencia_calculo.replace('_', '-')\n",
    "df_dic_dec_br['mes_ref_carta'] = referencia_calculo.replace('_', '-')"
   ]
  },
  {
   "cell_type": "markdown",
   "id": "f1e3bf76",
   "metadata": {
    "tags": []
   },
   "source": [
    "### fazendo join das bases:"
   ]
  },
  {
   "cell_type": "code",
   "execution_count": null,
   "id": "88ec38cd",
   "metadata": {
    "tags": []
   },
   "outputs": [],
   "source": [
    "eusd_kei_meta_real = df_eusd_kei.merge(\n",
    "        df_result_dic[['ENTIDADE', 'META_DIC_MENSAL', 'META_FIC_MENSAL','META_DMIC_MENSAL', 'META_DICRI_HORA', 'mes_ref_carta']], \n",
    "        how = 'left', \n",
    "        left_on = 'NUMCDC_CAD', \n",
    "        right_on = 'ENTIDADE'\n",
    "    ).merge(\n",
    "    df_dic_dec_br[['RESULTADO', 'CONTA', 'DIC_MES', 'FIC_MES', 'DMIC_MES', 'mes_ref_carta']], \n",
    "    how = 'left', \n",
    "    left_on = ['mes_ref_carta', 'NUMCDC_CAD'], \n",
    "    right_on = ['mes_ref_carta', 'CONTA']\n",
    ")"
   ]
  },
  {
   "cell_type": "code",
   "execution_count": null,
   "id": "4ea627c2-dd98-45f8-bfb3-2ebd849bb3eb",
   "metadata": {
    "tags": []
   },
   "outputs": [],
   "source": [
    "#eusd_kei_meta_real['mes_ref_carta'] = eusd_kei_meta_real['mes_ref_carta'].replace('VPR-DIC','2023-08')\n",
    "eusd_kei_meta_real['mes_ref_carta'].value_counts()\n"
   ]
  },
  {
   "cell_type": "code",
   "execution_count": null,
   "id": "a461e530-fa33-4647-969f-c03f1022d09a",
   "metadata": {
    "tags": []
   },
   "outputs": [],
   "source": [
    "eusd_kei_meta_real.to_parquet(r'C:/Users/evgj/Downloads/BI_REN1000/BASES/eusd_kei_meta_real.parquet')\n"
   ]
  },
  {
   "cell_type": "markdown",
   "id": "0b697d7a",
   "metadata": {},
   "source": [
    "___"
   ]
  },
  {
   "cell_type": "code",
   "execution_count": null,
   "id": "fe5ee81d",
   "metadata": {},
   "outputs": [],
   "source": [
    "valida = eusd_kei_meta_real.copy()\n",
    "valida['mes_ref_carta'] = valida['mes_ref_carta'].replace('VPR-DIC','2023-08')\n",
    "valida.head()"
   ]
  },
  {
   "cell_type": "code",
   "execution_count": null,
   "id": "1eedebf7-abe8-41ba-9b6b-e73a059d9f87",
   "metadata": {
    "tags": []
   },
   "outputs": [],
   "source": [
    "eusd_kei_meta_real.META_DICRI_HORA.value_counts()"
   ]
  },
  {
   "cell_type": "code",
   "execution_count": null,
   "id": "6efa0df6-cdca-4217-a1f0-54b225caf1e6",
   "metadata": {
    "tags": []
   },
   "outputs": [],
   "source": [
    "eusd_kei_meta_real['EMPRESA'].unique()"
   ]
  },
  {
   "cell_type": "code",
   "execution_count": null,
   "id": "d70e09c7",
   "metadata": {
    "tags": []
   },
   "outputs": [],
   "source": [
    "eusd_kei_meta_real.head()"
   ]
  },
  {
   "cell_type": "code",
   "execution_count": null,
   "id": "49223631",
   "metadata": {},
   "outputs": [],
   "source": []
  }
 ],
 "metadata": {
  "kernelspec": {
   "display_name": "Python 3 (ipykernel)",
   "language": "python",
   "name": "python3"
  },
  "language_info": {
   "codemirror_mode": {
    "name": "ipython",
    "version": 3
   },
   "file_extension": ".py",
   "mimetype": "text/x-python",
   "name": "python",
   "nbconvert_exporter": "python",
   "pygments_lexer": "ipython3",
   "version": "3.11.3"
  }
 },
 "nbformat": 4,
 "nbformat_minor": 5
}
